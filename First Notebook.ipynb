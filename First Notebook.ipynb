{
    "cells": [
        {
            "cell_type": "code",
            "execution_count": 3,
            "metadata": {
                "scrolled": true
            },
            "outputs": [
                {
                    "data": {
                        "text/html": "<div>\n<style scoped>\n    .dataframe tbody tr th:only-of-type {\n        vertical-align: middle;\n    }\n\n    .dataframe tbody tr th {\n        vertical-align: top;\n    }\n\n    .dataframe thead th {\n        text-align: right;\n    }\n</style>\n<table border=\"1\" class=\"dataframe\">\n  <thead>\n    <tr style=\"text-align: right;\">\n      <th></th>\n      <th>Job #</th>\n      <th>Borough</th>\n      <th>House #</th>\n      <th>Street Name</th>\n      <th>Block</th>\n      <th>Lot</th>\n      <th>Bin #</th>\n      <th>Job Type</th>\n      <th>Community - Board</th>\n      <th>Curb Cut</th>\n      <th>Fully Permitted</th>\n      <th>Initial Cost</th>\n      <th>Proposed Zoning Sqft</th>\n      <th>Horizontal Enlrgmt</th>\n      <th>Vertical Enlrgmt</th>\n      <th>Enlargement SQ Footage</th>\n      <th>Zoning Dist1</th>\n      <th>Job Description</th>\n    </tr>\n  </thead>\n  <tbody>\n    <tr>\n      <th>0</th>\n      <td>123768976</td>\n      <td>MANHATTAN</td>\n      <td>1598</td>\n      <td>2ND AVENUE</td>\n      <td>1545</td>\n      <td>49</td>\n      <td>1049907</td>\n      <td>A2</td>\n      <td>108</td>\n      <td>NaN</td>\n      <td>NaN</td>\n      <td>$65000.00</td>\n      <td>0</td>\n      <td>NaN</td>\n      <td>NaN</td>\n      <td>0</td>\n      <td>C1-9</td>\n      <td>INTERIOR RENOVATION TO COMBINE APARTMENT 2E AN...</td>\n    </tr>\n    <tr>\n      <th>1</th>\n      <td>140922893</td>\n      <td>MANHATTAN</td>\n      <td>160</td>\n      <td>E 89 ST</td>\n      <td>1517</td>\n      <td>43</td>\n      <td>1048094</td>\n      <td>A2</td>\n      <td>108</td>\n      <td>NaN</td>\n      <td>07/14/2020</td>\n      <td>$85000.00</td>\n      <td>0</td>\n      <td>NaN</td>\n      <td>NaN</td>\n      <td>0</td>\n      <td>R8B</td>\n      <td>HEREBY FILING APPLICATION FOR THE INTERIOR REN...</td>\n    </tr>\n    <tr>\n      <th>2</th>\n      <td>301773579</td>\n      <td>BROOKLYN</td>\n      <td>65</td>\n      <td>GATES AVENUE</td>\n      <td>1962</td>\n      <td>86</td>\n      <td>3056039</td>\n      <td>A1</td>\n      <td>302</td>\n      <td>NaN</td>\n      <td>05/23/2007</td>\n      <td>$60000.00</td>\n      <td>0</td>\n      <td>NaN</td>\n      <td>NaN</td>\n      <td>0</td>\n      <td>R6</td>\n      <td>Change existing four story and basement brick ...</td>\n    </tr>\n    <tr>\n      <th>3</th>\n      <td>301976057</td>\n      <td>BROOKLYN</td>\n      <td>1401</td>\n      <td>OCEAN AVENUE</td>\n      <td>7584</td>\n      <td>35</td>\n      <td>3206621</td>\n      <td>A2</td>\n      <td>314</td>\n      <td>NaN</td>\n      <td>02/28/2006</td>\n      <td>$75000.00</td>\n      <td>0</td>\n      <td>NaN</td>\n      <td>NaN</td>\n      <td>0</td>\n      <td>NaN</td>\n      <td>COMBINING OF APARTMENT 4A &amp;amp; 4L.NO CHANGEIN...</td>\n    </tr>\n    <tr>\n      <th>4</th>\n      <td>301989276</td>\n      <td>BROOKLYN</td>\n      <td>154</td>\n      <td>NOBLE STREET</td>\n      <td>2573</td>\n      <td>10</td>\n      <td>3065099</td>\n      <td>A1</td>\n      <td>301</td>\n      <td>NaN</td>\n      <td>09/29/2006</td>\n      <td>$40000.00</td>\n      <td>0</td>\n      <td>NaN</td>\n      <td>NaN</td>\n      <td>0</td>\n      <td>C4-3</td>\n      <td>New C of O for existing building. New duplex a...</td>\n    </tr>\n  </tbody>\n</table>\n</div>",
                        "text/plain": "       Job #    Borough House #   Street Name  Block  Lot    Bin # Job Type  \\\n0  123768976  MANHATTAN    1598    2ND AVENUE   1545   49  1049907       A2   \n1  140922893  MANHATTAN     160       E 89 ST   1517   43  1048094       A2   \n2  301773579   BROOKLYN      65  GATES AVENUE   1962   86  3056039       A1   \n3  301976057   BROOKLYN    1401  OCEAN AVENUE   7584   35  3206621       A2   \n4  301989276   BROOKLYN     154  NOBLE STREET   2573   10  3065099       A1   \n\n   Community - Board Curb Cut Fully Permitted Initial Cost  \\\n0                108      NaN             NaN    $65000.00   \n1                108      NaN      07/14/2020    $85000.00   \n2                302      NaN      05/23/2007    $60000.00   \n3                314      NaN      02/28/2006    $75000.00   \n4                301      NaN      09/29/2006    $40000.00   \n\n   Proposed Zoning Sqft Horizontal Enlrgmt Vertical Enlrgmt  \\\n0                     0                NaN              NaN   \n1                     0                NaN              NaN   \n2                     0                NaN              NaN   \n3                     0                NaN              NaN   \n4                     0                NaN              NaN   \n\n   Enlargement SQ Footage Zoning Dist1  \\\n0                       0         C1-9   \n1                       0          R8B   \n2                       0           R6   \n3                       0          NaN   \n4                       0         C4-3   \n\n                                     Job Description  \n0  INTERIOR RENOVATION TO COMBINE APARTMENT 2E AN...  \n1  HEREBY FILING APPLICATION FOR THE INTERIOR REN...  \n2  Change existing four story and basement brick ...  \n3  COMBINING OF APARTMENT 4A &amp; 4L.NO CHANGEIN...  \n4  New C of O for existing building. New duplex a...  "
                    },
                    "execution_count": 3,
                    "metadata": {},
                    "output_type": "execute_result"
                }
            ],
            "source": "# The code was removed by Watson Studio for sharing."
        },
        {
            "cell_type": "markdown",
            "metadata": {},
            "source": "# Description\n\nNew York Apartment List"
        }
    ],
    "metadata": {
        "kernelspec": {
            "display_name": "Python 3.9",
            "language": "python",
            "name": "python3"
        },
        "language_info": {
            "codemirror_mode": {
                "name": "ipython",
                "version": 3
            },
            "file_extension": ".py",
            "mimetype": "text/x-python",
            "name": "python",
            "nbconvert_exporter": "python",
            "pygments_lexer": "ipython3",
            "version": "3.9.13"
        }
    },
    "nbformat": 4,
    "nbformat_minor": 1
}